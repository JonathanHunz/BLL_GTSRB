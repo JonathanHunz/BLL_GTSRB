{
 "cells": [
  {
   "cell_type": "markdown",
   "metadata": {},
   "source": [
    "# GTSRB - Feed Forward Neural Net"
   ]
  },
  {
   "cell_type": "markdown",
   "metadata": {},
   "source": [
    "## Imports"
   ]
  },
  {
   "cell_type": "code",
   "execution_count": 2,
   "metadata": {},
   "outputs": [],
   "source": [
    "%matplotlib notebook\n",
    "\n",
    "from src.data import BatchServer, utils\n",
    "\n",
    "import math\n",
    "from datetime import datetime\n",
    "\n",
    "import tensorflow as tf\n",
    "import numpy as np\n",
    "import pandas as pd \n",
    "import matplotlib.pyplot as plt "
   ]
  },
  {
   "cell_type": "markdown",
   "metadata": {},
   "source": [
    "## Defining constants"
   ]
  },
  {
   "cell_type": "code",
   "execution_count": 3,
   "metadata": {},
   "outputs": [],
   "source": [
    "dataset_train = \"../data/gtsrb-train.tfrecords\"\n",
    "dataset_test = \"../data/gtsrb-test.tfrecords\"\n",
    "\n",
    "learning_rate = 0.001\n",
    "batch_size = 128\n",
    "epochs = 1"
   ]
  },
  {
   "cell_type": "markdown",
   "metadata": {},
   "source": [
    "## Building the graph"
   ]
  },
  {
   "cell_type": "code",
   "execution_count": 4,
   "metadata": {},
   "outputs": [],
   "source": [
    "# Create input and output placeholders\n",
    "X = tf.placeholder(tf.float32, [None, 40 * 40 * 3], \"X\")\n",
    "Y = tf.placeholder(tf.float32, [None, 43], \"Y\")\n",
    "\n",
    "# Initialize weights\n",
    "w_h1 = tf.Variable(tf.random_normal([40 * 40 * 3, 100], stddev=0.01), name=\"w_h1\")  # Layer 1\n",
    "w_h2 = tf.Variable(tf.random_normal([100, 100], stddev=0.01), name=\"w_h2\")  # Layer 2\n",
    "w_h3 = tf.Variable(tf.random_normal([100, 100], stddev=0.01), name=\"w_h3\")  # Layer 3\n",
    "w_h4 = tf.Variable(tf.random_normal([100, 100], stddev=0.01), name=\"w_h4\")  # Layer 4\n",
    "w_o = tf.Variable(tf.random_normal([100, 43], stddev=0.01), name=\"w_o\")  # Output layer\n",
    "\n",
    "# Define model\n",
    "with tf.name_scope(\"hidden_1\"):\n",
    "    X = tf.nn.dropout(X, 0.5)\n",
    "    h1 = tf.nn.relu(tf.matmul(X, w_h1))\n",
    "with tf.name_scope(\"hidden_2\"):\n",
    "    h1 = tf.nn.dropout(h1, 0.5)\n",
    "    h2 = tf.nn.relu(tf.matmul(h1, w_h2))\n",
    "with tf.name_scope(\"hidden_3\"):\n",
    "   h2 = tf.nn.dropout(h2, 0.5)\n",
    "   h3 = tf.nn.relu(tf.matmul(h2, w_h3))\n",
    "with tf.name_scope(\"hidden_4\"):\n",
    "    h3 = tf.nn.dropout(h3, 0.5)\n",
    "    h4 = tf.nn.relu(tf.matmul(h3, w_h4))\n",
    "with tf.name_scope(\"output\"):\n",
    "    h4 = tf.nn.dropout(h4, 0.5)\n",
    "    p_y = tf.nn.softmax(tf.matmul(h4, w_o))"
   ]
  },
  {
   "cell_type": "markdown",
   "metadata": {},
   "source": [
    "Next we define the cost and accuracy functions and also the train operation"
   ]
  },
  {
   "cell_type": "code",
   "execution_count": 5,
   "metadata": {},
   "outputs": [],
   "source": [
    "# Define cost function\n",
    "with tf.name_scope(\"cost\"):\n",
    "    cost = tf.reduce_mean(tf.nn.softmax_cross_entropy_with_logits(logits=p_y, labels=Y))\n",
    "    # Define train operation\n",
    "    train = tf.train.RMSPropOptimizer(learning_rate).minimize(cost)\n",
    "    # Add summary to cost tensor\n",
    "    tf.summary.scalar(\"cost\", cost)\n",
    "\n",
    "# Accuracy function\n",
    "with tf.name_scope(\"accuracy\"):\n",
    "    #  Count correct predictions\n",
    "    correct_pred = tf.equal(tf.argmax(p_y, 1), tf.argmax(Y, 1))\n",
    "    # Calculate average accuracy\n",
    "    accuracy = tf.reduce_mean(tf.cast(correct_pred, tf.float32))\n",
    "    tf.summary.scalar(\"accuracy\", accuracy)"
   ]
  },
  {
   "cell_type": "markdown",
   "metadata": {},
   "source": [
    "## Running the graph"
   ]
  },
  {
   "cell_type": "markdown",
   "metadata": {},
   "source": [
    "We set the batchsize of the test batch server to the number of test records because we want to get all test examples at once to calculate the test error over the whole test set."
   ]
  },
  {
   "cell_type": "code",
   "execution_count": 6,
   "metadata": {},
   "outputs": [
    {
     "name": "stdout",
     "output_type": "stream",
     "text": [
      "Train Set: 16800 Examples\n",
      "Test Set: 2978 Examples\n"
     ]
    }
   ],
   "source": [
    "# Calculate number of records in dataset\n",
    "num_train_records = utils.get_number_of_records(dataset_train)\n",
    "num_test_records = utils.get_number_of_records(dataset_test)\n",
    "\n",
    "# Read input data\n",
    "train_data = BatchServer(dataset_train, 40 * 40 * 3, 43, tf.uint8, batch_size)\n",
    "test_data = BatchServer(dataset_test, 40 * 40 * 3, 43, tf.uint8, num_test_records)\n",
    "predict_data = BatchServer(dataset_test, 40 * 40 * 3, 43, tf.uint8, 1)\n",
    "\n",
    "print(\"Train Set: {} Examples\".format(num_train_records))\n",
    "print(\"Test Set: {} Examples\".format(num_test_records))"
   ]
  },
  {
   "cell_type": "code",
   "execution_count": null,
   "metadata": {
    "scrolled": false
   },
   "outputs": [
    {
     "name": "stdout",
     "output_type": "stream",
     "text": [
      "Training...\n"
     ]
    }
   ],
   "source": [
    "with tf.Session() as sess:\n",
    "\n",
    "    # Initialize variables\n",
    "    init_op = tf.group(tf.global_variables_initializer(), tf.local_variables_initializer())\n",
    "    sess.run(init_op)\n",
    "    \n",
    "    # Create training coordinator\n",
    "    coord = tf.train.Coordinator()\n",
    "    threads = tf.train.start_queue_runners(coord=coord)\n",
    "    \n",
    "    print(\"Training...\")\n",
    "    \n",
    "    # Store train accuracies in array\n",
    "    accuracies_train = {}\n",
    "    # Store test accuracies in dict\n",
    "    accuracies_test = {}\n",
    "    \n",
    "    for i in range(epochs):\n",
    "               \n",
    "        iterations_per_epoch = math.floor(num_train_records / batch_size)\n",
    "    \n",
    "        for j in range(iterations_per_epoch):\n",
    "            # Get next batch of images and labels\n",
    "            train_batch_images, train_batch_labels = sess.run(train_data.next_batch())\n",
    "            \n",
    "            # Run training\n",
    "            sess.run(train, feed_dict={X: train_batch_images, Y: train_batch_labels})\n",
    "\n",
    "            # Calculate accuracy\n",
    "            train_accuracy = sess.run(accuracy, feed_dict={X: train_batch_images, Y: train_batch_labels})\n",
    "            \n",
    "            accuracies_train[i * iterations_per_epoch + j] = train_accuracy\n",
    "                        \n",
    "            # Calculate test accuracy 10 times per epoch\n",
    "            if j % int(iterations_per_epoch * 0.5) == 0:\n",
    "                \n",
    "                # Calculate test accuracy once per epoch\n",
    "                test_batch_images, test_batch_labels = sess.run(test_data.next_batch())\n",
    "                test_accuracy = sess.run(accuracy, feed_dict={X: test_batch_images, Y: test_batch_labels})\n",
    "                \n",
    "                accuracies_test[i * iterations_per_epoch + j] = test_accuracy\n",
    "                \n",
    "                print('{}: Epoch: {:02d} \\t Batch: {:02d} \\t Train Accuracy {:02f} \\t Test Accuracy: {:02f}'.format(datetime.now(), i, j, train_accuracy, test_accuracy))\n",
    "                                \n",
    "    # Predict\n",
    "    predict_image, _ = sess.run(predict_data.next_batch())\n",
    "    prediction = sess.run(tf.argmax(p_y, 1), feed_dict={X: predict_image})\n",
    "    plt.imshow(predict_image)\n",
    "    plt.show()\n",
    "    print(prediction)\n",
    "    \n",
    "    \n",
    "    # Stop coordinator\n",
    "    coord.request_stop()\n",
    "    coord.join(threads)"
   ]
  },
  {
   "cell_type": "code",
   "execution_count": 8,
   "metadata": {
    "slideshow": {
     "slide_type": "-"
    }
   },
   "outputs": [
    {
     "data": {
      "text/plain": [
       "<IPython.core.display.Javascript object>"
      ]
     },
     "metadata": {},
     "output_type": "display_data"
    },
    {
     "data": {
      "text/html": [
       "<img src=\"data:image/png;base64,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\" width=\"640\">"
      ],
      "text/plain": [
       "<IPython.core.display.HTML object>"
      ]
     },
     "metadata": {},
     "output_type": "execute_result"
    },
    {
     "data": {
      "text/plain": [
       "<matplotlib.legend.Legend at 0x7ff6ee507f60>"
      ]
     },
     "execution_count": 8,
     "metadata": {},
     "output_type": "execute_result"
    }
   ],
   "source": [
    "# Plot \n",
    "plt.plot(*zip(*sorted(accuracies_train.items())), label=\"Training Accuracy\")\n",
    "plt.plot(*zip(*sorted(accuracies_test.items())), label=\"Validation Accuracy\")\n",
    "\n",
    "plt.xlabel(\"Iterations\")\n",
    "plt.ylabel(\"Accuracy\")\n",
    "\n",
    "plt.text(0.7 * len(accuracies_train),0.15, \"learning_rate: {} \\nnum_epochs: {} \\nbatch_size: {}\".format(learning_rate, epochs, batch_size))\n",
    "\n",
    "plt.legend()"
   ]
  }
 ],
 "metadata": {
  "kernelspec": {
   "display_name": "Python 3",
   "language": "python",
   "name": "python3"
  },
  "language_info": {
   "codemirror_mode": {
    "name": "ipython",
    "version": 3
   },
   "file_extension": ".py",
   "mimetype": "text/x-python",
   "name": "python",
   "nbconvert_exporter": "python",
   "pygments_lexer": "ipython3",
   "version": "3.6.2"
  }
 },
 "nbformat": 4,
 "nbformat_minor": 2
}
